{
 "cells": [
  {
   "cell_type": "markdown",
   "metadata": {
    "slideshow": {
     "slide_type": "slide"
    }
   },
   "source": [
    "# Machine Learning Workshop\n",
    "\n",
    "### Sponsored by the UGA ACM\n",
    "\n",
    "<img src=\"images/acmlogo.png\" width=\"30%\" />"
   ]
  },
  {
   "cell_type": "markdown",
   "metadata": {
    "slideshow": {
     "slide_type": "slide"
    }
   },
   "source": [
    "### Basics\n",
    "\n",
    " - Heard of Python?\n",
    " - Heard of machine learning / data science / data mining?\n",
    " - Taken calculus and/or statistics?"
   ]
  },
  {
   "cell_type": "markdown",
   "metadata": {
    "slideshow": {
     "slide_type": "fragment"
    }
   },
   "source": [
    "### Intermediate\n",
    "\n",
    " - Programmed in Python?\n",
    " - Used `scikit-learn` library?\n",
    " - Taken a linear algebra course / coded vector and matrix operations?"
   ]
  },
  {
   "cell_type": "markdown",
   "metadata": {
    "slideshow": {
     "slide_type": "fragment"
    }
   },
   "source": [
    "### Advanced\n",
    "\n",
    " - Computed eigenvalues and eigenvectors?\n",
    " - Implemented gradient descent?\n",
    " - Used Jupyter notebooks or Docker containers?"
   ]
  },
  {
   "cell_type": "markdown",
   "metadata": {
    "slideshow": {
     "slide_type": "slide"
    }
   },
   "source": [
    "## Goals of this Workshop"
   ]
  },
  {
   "cell_type": "markdown",
   "metadata": {},
   "source": [
    " 1: Introduce basics of machine learning."
   ]
  },
  {
   "cell_type": "markdown",
   "metadata": {},
   "source": [
    " 2: Introduce the Python programming language, and in particular, the `scikit-learn` library for machine learning."
   ]
  },
  {
   "cell_type": "markdown",
   "metadata": {
    "slideshow": {
     "slide_type": "slide"
    }
   },
   "source": [
    "## Assumptions"
   ]
  },
  {
   "cell_type": "markdown",
   "metadata": {
    "slideshow": {
     "slide_type": "fragment"
    }
   },
   "source": [
    "In this workshop, I'll assume"
   ]
  },
  {
   "cell_type": "markdown",
   "metadata": {
    "slideshow": {
     "slide_type": "-"
    }
   },
   "source": [
    " - a basic command line (e.g. bash) proficiency"
   ]
  },
  {
   "cell_type": "markdown",
   "metadata": {},
   "source": [
    " - understanding of data structures (e.g. arrays, objects)"
   ]
  },
  {
   "cell_type": "markdown",
   "metadata": {},
   "source": [
    " - conceptual familiarity with core linear algebra constructs (e.g. vectors, matrices)"
   ]
  },
  {
   "cell_type": "markdown",
   "metadata": {
    "slideshow": {
     "slide_type": "fragment"
    }
   },
   "source": [
    "I will **NOT** assume"
   ]
  },
  {
   "cell_type": "markdown",
   "metadata": {},
   "source": [
    " - Python expertise"
   ]
  },
  {
   "cell_type": "markdown",
   "metadata": {},
   "source": [
    " - machine learning knowledge or experience"
   ]
  },
  {
   "cell_type": "markdown",
   "metadata": {
    "slideshow": {
     "slide_type": "slide"
    }
   },
   "source": [
    "## Hands-on"
   ]
  },
  {
   "cell_type": "markdown",
   "metadata": {},
   "source": [
    "These resources are available for you to use now, or download and tinker with later."
   ]
  },
  {
   "cell_type": "markdown",
   "metadata": {
    "slideshow": {
     "slide_type": "slide"
    }
   },
   "source": [
    "### GitHub\n",
    "\n",
    "<img src=\"images/github.png\" width=\"10%\" align=\"left\" />\n",
    "\n",
    "All materials are posted here:\n",
    "https://github.com/eds-uga/acm-ml-workshop-2017"
   ]
  },
  {
   "cell_type": "markdown",
   "metadata": {
    "slideshow": {
     "slide_type": "slide"
    }
   },
   "source": [
    "### Docker\n",
    "\n",
    "<img src=\"images/docker.png\" width=\"8%\" align=\"left\" />\n",
    "\n",
    "A Docker build is available on the Docker Cloud:\n",
    "https://hub.docker.com/r/magsol/uga-acm-ml-workshop-2017/"
   ]
  },
  {
   "cell_type": "markdown",
   "metadata": {
    "slideshow": {
     "slide_type": "slide"
    }
   },
   "source": [
    "### VirtualBox\n",
    "\n",
    "<img src=\"images/virtualbox.png\" width=\"8%\" align=\"left\" />\n",
    "\n",
    "A full VirtualBox image is available for download (**must be on the UGA network to access**):\n",
    "http://ridcully.cs.uga.edu/uga-acm-ml-workshop-2017.vdi"
   ]
  },
  {
   "cell_type": "markdown",
   "metadata": {
    "slideshow": {
     "slide_type": "slide"
    }
   },
   "source": [
    "## Outline of this Workshop"
   ]
  },
  {
   "cell_type": "markdown",
   "metadata": {
    "slideshow": {
     "slide_type": "fragment"
    }
   },
   "source": [
    "**My goal**: An unbelievably quick-and-dirty dive into Python and machine learning, both theory and application\n",
    " - (for a slow burn, take [CSCI 1360](https://eds-uga.github.io/csci1360-fa16/))\n",
    " - (for a quicker boil, take CSCI 3360)\n",
    " - (for experts--why are you here? but seriously, you're welcome to be here!...and take CSCI 4360 *this coming fall 2017!*)"
   ]
  },
  {
   "cell_type": "markdown",
   "metadata": {
    "slideshow": {
     "slide_type": "fragment"
    }
   },
   "source": [
    "Part 1: This introduction!\n",
    " - Hands-on resources (previous slide)\n",
    " - Jupyter notebooks"
   ]
  },
  {
   "cell_type": "markdown",
   "metadata": {
    "slideshow": {
     "slide_type": "fragment"
    }
   },
   "source": [
    "Part 2: Machine learning introduction\n",
    " - Classification (aka, supervised learning) and regression\n",
    " - Basics of data structures in machine learning\n",
    " - Python and the `scikit-learn` library (and accompanying scientific programming ecosystem)"
   ]
  },
  {
   "cell_type": "markdown",
   "metadata": {
    "slideshow": {
     "slide_type": "fragment"
    }
   },
   "source": [
    "Part 3: Basics of practical machine learning\n",
    " - Structure of the `scikit-learn` Estimator objects and overall API design\n",
    " - Supervised learning (classification and regression)\n",
    " - Unsupervised learning (clustering, dimensionality reduction)\n",
    " - Model evaluation (cross-validation)\n",
    " - Worked examples"
   ]
  }
 ],
 "metadata": {
  "celltoolbar": "Slideshow",
  "kernelspec": {
   "display_name": "Python 3",
   "language": "python",
   "name": "python3"
  },
  "language_info": {
   "codemirror_mode": {
    "name": "ipython",
    "version": 3
   },
   "file_extension": ".py",
   "mimetype": "text/x-python",
   "name": "python",
   "nbconvert_exporter": "python",
   "pygments_lexer": "ipython3",
   "version": "3.5.3"
  }
 },
 "nbformat": 4,
 "nbformat_minor": 2
}
